{
 "cells": [
  {
   "cell_type": "markdown",
   "metadata": {},
   "source": [
    "<center>\n",
    "    <img src=\"https://cf-courses-data.s3.us.cloud-object-storage.appdomain.cloud/IBMDeveloperSkillsNetwork-DS0105EN-SkillsNetwork/labs/Module2/images/SN_web_lightmode.png\" width=\"300\" alt=\"cognitiveclass.ai logo\">\n",
    "</center>\n"
   ]
  },
  {
   "cell_type": "markdown",
   "metadata": {},
   "source": [
    "# Cuaderno para tarea evaluada"
   ]
  },
  {
   "cell_type": "markdown",
   "metadata": {},
   "source": [
    "#  Introduccion\n",
    "\n",
    "En este cuaderno, realizaré mi proyecto final para este curso de Ciencia de Datos. A lo largo de este curso, he aprendido sobre diversas herramientas y técnicas que me han permitido analizar y manipular datos de manera efectiva. Ahora, aplicaré estos conocimientos en un proyecto práctico utilizando **Jupyterlite Notebook**, una herramienta sencilla pero poderosa que permite crear, ejecutar y compartir cuadernos de forma pública.\n",
    "\n",
    "Durante el proyecto, utilizaré **GitHub** para compartir mi cuaderno de Jupyterlite, facilitando la colaboración y el acceso público. Este cuaderno servirá como una muestra de lo aprendido y una oportunidad para interactuar con la comunidad, recibir retroalimentación y seguir perfeccionando mis habilidades en ciencia de datos.\n",
    "\n"
   ]
  },
  {
   "cell_type": "markdown",
   "metadata": {},
   "source": [
    "## Lenguajes de la Ciencia de Datos\n",
    "\n",
    "En el campo de la ciencia de datos, se utilizan varios lenguajes de programación para realizar análisis, visualización de datos, y modelado predictivo. Algunos de los lenguajes más utilizados son:\n",
    "\n",
    "1. Python  \n",
    "2. R  \n",
    "3. SQL  \n",
    "4. Java  \n",
    "5. Julia  \n",
    "6. SAS"
   ]
  },
  {
   "cell_type": "markdown",
   "metadata": {},
   "source": [
    "## Bibliotecas de Ciencia de Datos\n",
    "\n",
    "1. Pandas\n",
    "2. NumPy  \n",
    "3. Matplotlib\n",
    "4. Seaborn \n",
    "5. Scikit-learn  \n",
    "6. TensorFlow  \n",
    "7. Keras\n",
    "8. Plotly  \n",
    "9. Statsmodels  \n",
    "10. PyTorch"
   ]
  },
  {
   "cell_type": "markdown",
   "metadata": {},
   "source": [
    "## Herramientas de Ciencia de Datos\n",
    "\n",
    "| Herramienta        | Descripción                                      | Tipo                    |\n",
    "|--------------------|--------------------------------------------------|-------------------------|\n",
    "| **Jupyter Notebook** | Entorno interactivo para crear y compartir cuadernos de datos. | Entorno de desarrollo    |\n",
    "| **RStudio**         | IDE para el lenguaje R, ideal para análisis estadísticos. | Entorno de desarrollo    |\n",
    "| **Anaconda**        | Distribución de Python que facilita la gestión de entornos y paquetes. | Plataforma de gestión   |\n",
    "| **Tableau**         | Herramienta de visualización de datos interactiva. | Visualización de datos   |\n",
    "| **Power BI**        | Herramienta de visualización de datos de Microsoft. | Visualización de datos   |\n",
    "| **Google Colab**    | Entorno basado en la web para ejecutar cuadernos Jupyter. | Entorno de desarrollo    |"
   ]
  },
  {
   "cell_type": "markdown",
   "metadata": {},
   "source": [
    "## Ejemplos de Expresiones Aritméticas\n",
    "\n",
    "A continuación, se presentan algunos ejemplos de expresiones aritméticas en Python:\n",
    "\n",
    "1. **Suma**:  \n",
    "   5 + 3  → Resultado: 8\n",
    "\n",
    "2. **Resta**:  \n",
    "   10 - 4  → Resultado: 6\n",
    "\n",
    "3. **Multiplicación**:  \n",
    "   7 * 6  → Resultado: 42\n",
    "\n",
    "4. **División**:  \n",
    "   20 / 4  → Resultado: 5.0\n",
    "\n",
    "5. **División enteros**:  \n",
    "   20 // 3  → Resultado: 6\n",
    "\n",
    "6. **Módulo** (resto de la división):  \n",
    "   20 % 3  → Resultado: 2\n",
    "\n",
    "7. **Exponente**:  \n",
    "   3 ** 2  → Resultado: 9\n",
    "\n",
    "Estos ejemplos muestran cómo realizar operaciones básicas en Python."
   ]
  },
  {
   "cell_type": "code",
   "execution_count": 4,
   "metadata": {},
   "outputs": [
    {
     "data": {
      "text/plain": [
       "(50, 15)"
      ]
     },
     "execution_count": 4,
     "metadata": {},
     "output_type": "execute_result"
    }
   ],
   "source": [
    "# Multiplicar y sumar números\n",
    "numero1 = 5\n",
    "numero2 = 10\n",
    "\n",
    "# Multiplicación\n",
    "producto = numero1 * numero2\n",
    "\n",
    "# Suma\n",
    "suma = numero1 + numero2\n",
    "\n",
    "producto, suma"
   ]
  },
  {
   "cell_type": "code",
   "execution_count": 6,
   "metadata": {},
   "outputs": [
    {
     "data": {
      "text/plain": [
       "(2, 10)"
      ]
     },
     "execution_count": 6,
     "metadata": {},
     "output_type": "execute_result"
    }
   ],
   "source": [
    "# Función para convertir minutos en horas\n",
    "def convertir_a_horas(minutos):\n",
    "    horas = minutos // 60 \n",
    "    minutos_restantes = minutos % 60 \n",
    "    return horas, minutos_restantes\n",
    "\n",
    "# Ejemplo de conversión\n",
    "minutos = 130\n",
    "horas, minutos_restantes = convertir_a_horas(minutos)\n",
    "\n",
    "horas, minutos_restantes"
   ]
  },
  {
   "cell_type": "code",
   "execution_count": 7,
   "metadata": {},
   "outputs": [
    {
     "name": "stdout",
     "output_type": "stream",
     "text": [
      "Aprender a manejar herramientas de Ciencia de Datos.\n",
      "Aplicar conocimientos adquiridos en el curso en un proyecto práctico.\n",
      "Crear y compartir cuadernos Jupyterlite de forma pública.\n",
      "Explorar y utilizar bibliotecas y lenguajes relevantes en Ciencia de Datos.\n",
      "Desarrollar habilidades en la manipulación, análisis y visualización de datos.\n"
     ]
    }
   ],
   "source": [
    "# Lista de objetivos del proyecto\n",
    "objetivos = [\n",
    "    \"Aprender a manejar herramientas de Ciencia de Datos.\",\n",
    "    \"Aplicar conocimientos adquiridos en el curso en un proyecto práctico.\",\n",
    "    \"Crear y compartir cuadernos Jupyterlite de forma pública.\",\n",
    "    \"Explorar y utilizar bibliotecas y lenguajes relevantes en Ciencia de Datos.\",\n",
    "    \"Desarrollar habilidades en la manipulación, análisis y visualización de datos.\"\n",
    "]\n",
    "\n",
    "# Imprimir los objetivos\n",
    "for objetivo in objetivos:\n",
    "    print(objetivo)"
   ]
  },
  {
   "cell_type": "markdown",
   "metadata": {},
   "source": [
    "## Autor\n",
    "\n",
    "El autor de este cuaderno es **Joaquin Olivos Miranda**."
   ]
  },
  {
   "cell_type": "code",
   "execution_count": null,
   "metadata": {},
   "outputs": [],
   "source": []
  }
 ],
 "metadata": {
  "kernelspec": {
   "display_name": "Python 3 (ipykernel)",
   "language": "python",
   "name": "python3"
  },
  "language_info": {
   "codemirror_mode": {
    "name": "ipython",
    "version": 3
   },
   "file_extension": ".py",
   "mimetype": "text/x-python",
   "name": "python",
   "nbconvert_exporter": "python",
   "pygments_lexer": "ipython3",
   "version": "3.12.8"
  }
 },
 "nbformat": 4,
 "nbformat_minor": 4
}
